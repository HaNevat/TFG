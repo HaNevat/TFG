{
 "cells": [
  {
   "cell_type": "code",
   "execution_count": null,
   "metadata": {},
   "outputs": [],
   "source": [
    "#process_mpd(os.getcwd() + os.sep  + os.pardir +  \"/MPD\")"
   ]
  },
  {
   "cell_type": "markdown",
   "metadata": {},
   "source": [
    "### Number of tracks depending on constraints\n",
    "iterates over the million playlist dataset and outputs number songs tha appear more than: 1,2,3,4 times"
   ]
  },
  {
   "cell_type": "code",
   "execution_count": null,
   "metadata": {},
   "outputs": [],
   "source": [
    "import sys\n",
    "import json\n",
    "import re\n",
    "import collections\n",
    "import os\n",
    "\n",
    "total_playlists = 0\n",
    "total_tracks = 0\n",
    "track_histogram = collections.Counter()\n",
    "\n",
    "quick = False\n",
    "max_files_for_quick_processing = 1\n",
    "\n",
    "def process_mpd(path):\n",
    "    count = 0\n",
    "    filenames = os.listdir(path)\n",
    "    for filename in sorted(filenames):\n",
    "        if filename.startswith(\"mpd.slice.\") and filename.endswith(\".json\"):\n",
    "            fullpath = os.sep.join((path, filename))\n",
    "            f = open(fullpath)\n",
    "            js = f.read()\n",
    "            f.close()\n",
    "            mpd_slice = json.loads(js)\n",
    "            process_info(mpd_slice['info'])\n",
    "            for playlist in mpd_slice['playlists']:\n",
    "                process_playlist(playlist)\n",
    "            count += 1\n",
    "\n",
    "            if quick and count > max_files_for_quick_processing:\n",
    "                break\n",
    "\n",
    "    show_summary()\n",
    "\n",
    "\n",
    "def show_summary():\n",
    "    print()\n",
    "    \n",
    "    t1 = len(list(filter(lambda (x,y): y>1, track_histogram.items())))\n",
    "    t2 = len(list(filter(lambda (x,y): y>2, track_histogram.items())))\n",
    "    t3 = len(list(filter(lambda (x,y): y>3, track_histogram.items())))\n",
    "    t4 = len(list(filter(lambda (x,y): y>4, track_histogram.items())))\n",
    "    t5 = len(list(filter(lambda (x,y): y>5, track_histogram.items())))\n",
    "    unique = len(track_histogram)\n",
    "    \n",
    "    print (\"number of playlists\", total_playlists)\n",
    "    print (\"number of tracks\", total_tracks)\n",
    "    print (\"number of unique tracks\", unique)\n",
    "    print (\"number of unique tracks appearing more than 1 time:\" + str(t1) + \"that is \"+ str(t1/(unique*1.0)+\"%\" )\n",
    "    print (\"number of unique tracks appearing more than 2 times:\"+ str(t2) + \"that is \"+ str(t2/(unique*1.0)+\"%\" )\n",
    "    print (\"number of unique tracks appearing more than 3 times:\"+ str(t3) + \"that is \"+ str(t3/(unique*1.)+\"%\"  )\n",
    "    print (\"number of unique tracks appearing more than 4 times:\"+ str(t4) + \"that is \"+ str(t4/(unique*1.0)+\"%\"  )\n",
    "    print (\"number of unique tracks appearing more than 5 times:\"+ str(t5) + \"that is \"+ str(t5/(unique*1.0)+\"%\" )\n",
    "\n",
    "\n",
    "def normalize_name(name):\n",
    "    name = name.lower()\n",
    "    name = re.sub(r\"[.,\\/#!$%\\^\\*;:{}=\\_`~()@]\", ' ', name)\n",
    "    name = re.sub(r'\\s+', ' ', name).strip()\n",
    "    return name\n",
    "\n",
    "\n",
    "def process_playlist(playlist):\n",
    "    global total_tracks, total_playlists\n",
    "    total_playlists += 1\n",
    "    for track in playlist['tracks']:\n",
    "        total_tracks += 1\n",
    "        track_histogram[track['track_uri']] += 1\n",
    "\n",
    "\n",
    "def process_info(_):\n",
    "    pass\n",
    "\n",
    "\n",
    "if __name__ == '__main__':\n",
    "    path = sys.argv[1]\n",
    "    if len(sys.argv) > 2 and sys.argv[2] == '--quick':\n",
    "        quick = False\n",
    "    #process_mpd(path)\n",
    "    process_mpd(os.getcwd() + os.sep  + os.pardir +  \"/MPD\")"
   ]
  },
  {
   "cell_type": "code",
   "execution_count": null,
   "metadata": {},
   "outputs": [],
   "source": [
    "\"\"\"\n",
    ">1 100%\n",
    ">2 44%\n",
    ">3 30%\n",
    ">4 20%\n",
    ">5 ...\n",
    "\"\"\""
   ]
  },
  {
   "cell_type": "markdown",
   "metadata": {},
   "source": [
    "### Dictionary file track_uri --> ID creation\n",
    "now let's make a dictionary of all the tracks appearing mre than x times and uri-id"
   ]
  },
  {
   "cell_type": "code",
   "execution_count": 3,
   "metadata": {
    "scrolled": true
   },
   "outputs": [
    {
     "name": "stdout",
     "output_type": "stream",
     "text": [
      "number of tracks 134125\n",
      "number of unique tracks 57884\n"
     ]
    },
    {
     "ename": "TypeError",
     "evalue": "'dict_values' object does not support indexing",
     "output_type": "error",
     "traceback": [
      "\u001b[1;31m---------------------------------------------------------------------------\u001b[0m",
      "\u001b[1;31mTypeError\u001b[0m                                 Traceback (most recent call last)",
      "\u001b[1;32m<ipython-input-3-b401b9cf4283>\u001b[0m in \u001b[0;36m<module>\u001b[1;34m()\u001b[0m\n\u001b[0;32m     73\u001b[0m         \u001b[0mquick\u001b[0m \u001b[1;33m=\u001b[0m \u001b[1;32mTrue\u001b[0m\u001b[1;33m\u001b[0m\u001b[0m\n\u001b[0;32m     74\u001b[0m     \u001b[1;31m#process_mpd(path)\u001b[0m\u001b[1;33m\u001b[0m\u001b[1;33m\u001b[0m\u001b[0m\n\u001b[1;32m---> 75\u001b[1;33m     \u001b[0mprocess_mpd\u001b[0m\u001b[1;33m(\u001b[0m\u001b[0mos\u001b[0m\u001b[1;33m.\u001b[0m\u001b[0mgetcwd\u001b[0m\u001b[1;33m(\u001b[0m\u001b[1;33m)\u001b[0m \u001b[1;33m+\u001b[0m \u001b[0mos\u001b[0m\u001b[1;33m.\u001b[0m\u001b[0msep\u001b[0m  \u001b[1;33m+\u001b[0m \u001b[0mos\u001b[0m\u001b[1;33m.\u001b[0m\u001b[0mpardir\u001b[0m \u001b[1;33m+\u001b[0m  \u001b[1;34m\"/MPD\"\u001b[0m\u001b[1;33m)\u001b[0m\u001b[1;33m\u001b[0m\u001b[0m\n\u001b[0m",
      "\u001b[1;32m<ipython-input-3-b401b9cf4283>\u001b[0m in \u001b[0;36mprocess_mpd\u001b[1;34m(path)\u001b[0m\n\u001b[0;32m     41\u001b[0m \u001b[1;33m\u001b[0m\u001b[0m\n\u001b[0;32m     42\u001b[0m     \u001b[0mshow_summary\u001b[0m\u001b[1;33m(\u001b[0m\u001b[1;33m)\u001b[0m\u001b[1;33m\u001b[0m\u001b[0m\n\u001b[1;32m---> 43\u001b[1;33m     \u001b[0mwrite_file\u001b[0m\u001b[1;33m(\u001b[0m\u001b[1;33m)\u001b[0m\u001b[1;33m\u001b[0m\u001b[0m\n\u001b[0m\u001b[0;32m     44\u001b[0m \u001b[1;33m\u001b[0m\u001b[0m\n\u001b[0;32m     45\u001b[0m \u001b[1;32mdef\u001b[0m \u001b[0mwrite_file\u001b[0m\u001b[1;33m(\u001b[0m\u001b[1;33m)\u001b[0m\u001b[1;33m:\u001b[0m\u001b[1;33m\u001b[0m\u001b[0m\n",
      "\u001b[1;32m<ipython-input-3-b401b9cf4283>\u001b[0m in \u001b[0;36mwrite_file\u001b[1;34m()\u001b[0m\n\u001b[0;32m     50\u001b[0m         \u001b[1;32mfor\u001b[0m \u001b[0mi\u001b[0m \u001b[1;32min\u001b[0m \u001b[0mrange\u001b[0m \u001b[1;33m(\u001b[0m\u001b[0mlen\u001b[0m\u001b[1;33m(\u001b[0m\u001b[0mtrack_histogram\u001b[0m\u001b[1;33m)\u001b[0m\u001b[1;33m)\u001b[0m\u001b[1;33m:\u001b[0m\u001b[1;33m\u001b[0m\u001b[0m\n\u001b[0;32m     51\u001b[0m             \u001b[1;31m#only considers the tracks appearing at least 5 times\u001b[0m\u001b[1;33m\u001b[0m\u001b[1;33m\u001b[0m\u001b[0m\n\u001b[1;32m---> 52\u001b[1;33m             \u001b[1;32mif\u001b[0m \u001b[0mtrack_histogram\u001b[0m\u001b[1;33m.\u001b[0m\u001b[0mvalues\u001b[0m\u001b[1;33m(\u001b[0m\u001b[1;33m)\u001b[0m\u001b[1;33m[\u001b[0m\u001b[0mi\u001b[0m\u001b[1;33m]\u001b[0m\u001b[1;33m>\u001b[0m\u001b[1;36m4\u001b[0m\u001b[1;33m:\u001b[0m\u001b[1;33m\u001b[0m\u001b[0m\n\u001b[0m\u001b[0;32m     53\u001b[0m                 \u001b[1;31m#we write only the last part of the track_uri, deleting \"spotify:track:\"\u001b[0m\u001b[1;33m\u001b[0m\u001b[1;33m\u001b[0m\u001b[0m\n\u001b[0;32m     54\u001b[0m                 \u001b[1;31m#spamwriter.writerow([i,tracks.pop()[14:]])\u001b[0m\u001b[1;33m\u001b[0m\u001b[1;33m\u001b[0m\u001b[0m\n",
      "\u001b[1;31mTypeError\u001b[0m: 'dict_values' object does not support indexing"
     ]
    }
   ],
   "source": [
    "\"\"\"\n",
    "in this notebook we will create a csv file with all the tracks_uris and its new associated unique numeric ID\n",
    "only with tracks appearing more than num = 4 times \n",
    "data format: id track_uri\n",
    "usage: process_mpd(path)\n",
    "\"\"\"\n",
    "\n",
    "import pandas as pd\n",
    "import numpy as np\n",
    "import sys\n",
    "import json\n",
    "import re\n",
    "import collections\n",
    "import os\n",
    "import datetime\n",
    "import csv\n",
    "\n",
    "total_tracks = 0\n",
    "track_histogram = collections.Counter()\n",
    "num = 4\n",
    "\n",
    "quick = True\n",
    "max_files_for_quick_processing = 1\n",
    "\n",
    "def process_mpd(path):\n",
    "    count = 0\n",
    "    filenames = os.listdir(path)\n",
    "    for filename in sorted(filenames):\n",
    "        if filename.startswith(\"mpd.slice.\") and filename.endswith(\".json\"):\n",
    "            fullpath = os.sep.join((path, filename))\n",
    "            f = open(fullpath)\n",
    "            js = f.read()\n",
    "            f.close()\n",
    "            mpd_slice = json.loads(js)\n",
    "            for playlist in mpd_slice['playlists']:\n",
    "                process_playlist(playlist)\n",
    "            count += 1\n",
    "\n",
    "            if quick and count > max_files_for_quick_processing:\n",
    "                break\n",
    "\n",
    "    show_summary()\n",
    "    write_file()\n",
    "\n",
    "def write_file():\n",
    "    j = 0\n",
    "    with open('id_trackuri_filter.csv', 'w', newline='') as csvfile:\n",
    "        spamwriter = csv.writer(csvfile, delimiter=',', quoting=csv.QUOTE_MINIMAL)\n",
    "        spamwriter.writerow([\"id\",\"track_uri\"])\n",
    "        for i in range (len(track_histogram)):\n",
    "            #only considers the tracks appearing at least 5 times  \n",
    "            if track_histogram.values()[i]>4:               \n",
    "                #we write only the last part of the track_uri, deleting \"spotify:track:\"\n",
    "                #spamwriter.writerow([i,tracks.pop()[14:]])\n",
    "                spamwriter.writerow([j,track_histogram.items()[i][0][14:]])\n",
    "                j+=1\n",
    "        \n",
    "\n",
    "def show_summary():\n",
    "    print(\"number of tracks\", total_tracks)\n",
    "    print(\"number of unique tracks\", len(track_histogram))\n",
    "\n",
    "\n",
    "def process_playlist(playlist):\n",
    "    global total_tracks\n",
    "    for track in playlist['tracks']:\n",
    "        total_tracks += 1\n",
    "        track_histogram[track['track_uri']] += 1\n",
    "\n",
    "if __name__ == '__main__':\n",
    "    path = sys.argv[1]\n",
    "    if len(sys.argv) > 2 and sys.argv[2] == '--quick':\n",
    "        quick = True\n",
    "    #process_mpd(path)\n",
    "    process_mpd(os.getcwd() + os.sep  + os.pardir +  \"/MPD\")"
   ]
  },
  {
   "cell_type": "code",
   "execution_count": 5,
   "metadata": {},
   "outputs": [
    {
     "ename": "TypeError",
     "evalue": "'dict_values' object does not support indexing",
     "output_type": "error",
     "traceback": [
      "\u001b[1;31m---------------------------------------------------------------------------\u001b[0m",
      "\u001b[1;31mTypeError\u001b[0m                                 Traceback (most recent call last)",
      "\u001b[1;32m<ipython-input-5-b045d6853a74>\u001b[0m in \u001b[0;36m<module>\u001b[1;34m()\u001b[0m\n\u001b[1;32m----> 1\u001b[1;33m \u001b[0mtrack_histogram\u001b[0m\u001b[1;33m.\u001b[0m\u001b[0mvalues\u001b[0m\u001b[1;33m(\u001b[0m\u001b[1;33m)\u001b[0m\u001b[1;33m[\u001b[0m\u001b[1;36m0\u001b[0m\u001b[1;33m]\u001b[0m\u001b[1;33m\u001b[0m\u001b[0m\n\u001b[0m",
      "\u001b[1;31mTypeError\u001b[0m: 'dict_values' object does not support indexing"
     ]
    }
   ],
   "source": [
    "track_histogram.values()"
   ]
  },
  {
   "cell_type": "code",
   "execution_count": null,
   "metadata": {},
   "outputs": [],
   "source": []
  }
 ],
 "metadata": {
  "kernelspec": {
   "display_name": "Python 3",
   "language": "python",
   "name": "python3"
  },
  "language_info": {
   "codemirror_mode": {
    "name": "ipython",
    "version": 3
   },
   "file_extension": ".py",
   "mimetype": "text/x-python",
   "name": "python",
   "nbconvert_exporter": "python",
   "pygments_lexer": "ipython3",
   "version": "3.6.1"
  }
 },
 "nbformat": 4,
 "nbformat_minor": 2
}
