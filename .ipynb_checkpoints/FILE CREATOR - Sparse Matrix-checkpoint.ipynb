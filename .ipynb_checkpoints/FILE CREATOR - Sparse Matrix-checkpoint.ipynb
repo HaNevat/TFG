{
 "cells": [
  {
   "cell_type": "code",
   "execution_count": 2,
   "metadata": {
    "collapsed": true
   },
   "outputs": [],
   "source": [
    "\"\"\"\n",
    "This notebooks creates and saves into a file sparse_matrix.npz a sparse matrix tracks x tracks\n",
    "containing the total amount of times 2 tracks appear in the same playlist\n",
    "usage: run after running FILE CREATOR - playlist by id, so that the file playlists_tracks_id.csv is in the same folder\n",
    "\"\"\"\n",
    "import os\n",
    "import json\n",
    "import pandas as pd\n",
    "import numpy as np\n",
    "import csv\n",
    "import scipy.sparse as sp\n",
    "import scipy.sparse.linalg  as la\n",
    "import itertools"
   ]
  },
  {
   "cell_type": "code",
   "execution_count": 4,
   "metadata": {},
   "outputs": [
    {
     "name": "stdout",
     "output_type": "stream",
     "text": [
      "number of processed playlists in playlists_tracks_id: 366\n",
      "number of unique songs in id_trackuri: 681805\n"
     ]
    },
    {
     "data": {
      "text/html": [
       "<div>\n",
       "<style>\n",
       "    .dataframe thead tr:only-child th {\n",
       "        text-align: right;\n",
       "    }\n",
       "\n",
       "    .dataframe thead th {\n",
       "        text-align: left;\n",
       "    }\n",
       "\n",
       "    .dataframe tbody tr th {\n",
       "        vertical-align: top;\n",
       "    }\n",
       "</style>\n",
       "<table border=\"1\" class=\"dataframe\">\n",
       "  <thead>\n",
       "    <tr style=\"text-align: right;\">\n",
       "      <th></th>\n",
       "      <th>playlist</th>\n",
       "      <th>track_id</th>\n",
       "    </tr>\n",
       "  </thead>\n",
       "  <tbody>\n",
       "    <tr>\n",
       "      <th>0</th>\n",
       "      <td>0</td>\n",
       "      <td>378843</td>\n",
       "    </tr>\n",
       "    <tr>\n",
       "      <th>1</th>\n",
       "      <td>0</td>\n",
       "      <td>31418</td>\n",
       "    </tr>\n",
       "    <tr>\n",
       "      <th>2</th>\n",
       "      <td>0</td>\n",
       "      <td>172352</td>\n",
       "    </tr>\n",
       "    <tr>\n",
       "      <th>3</th>\n",
       "      <td>0</td>\n",
       "      <td>477136</td>\n",
       "    </tr>\n",
       "    <tr>\n",
       "      <th>4</th>\n",
       "      <td>0</td>\n",
       "      <td>543117</td>\n",
       "    </tr>\n",
       "  </tbody>\n",
       "</table>\n",
       "</div>"
      ],
      "text/plain": [
       "   playlist  track_id\n",
       "0         0    378843\n",
       "1         0     31418\n",
       "2         0    172352\n",
       "3         0    477136\n",
       "4         0    543117"
      ]
     },
     "execution_count": 4,
     "metadata": {},
     "output_type": "execute_result"
    }
   ],
   "source": [
    "df = pd.read_csv(\"playlists_tracks_id.csv\")\n",
    "print(\"number of processed playlists in playlists_tracks_id: \"+str(df[\"playlist\"][len(df)-1])\n",
    "#df2 = pd.read_csv(\"id_trackuri.csv\")\n",
    "#print(\"number of unique songs in id_trackuri: \"+ str(len(df2)))\n",
    "df.head()"
   ]
  },
  {
   "cell_type": "code",
   "execution_count": 132,
   "metadata": {
    "collapsed": true
   },
   "outputs": [],
   "source": [
    "\"\"\"make one sparse matrix per playlist and add up all the sparse matrices\n",
    "the sparse matrix of a playlist will be a matrix with ones in all possible pairs\n",
    "when the first element of the pair is higher than the 2nd (to avoid symmetries)\"\"\"\n",
    "\n",
    "matrix = sp.coo_matrix((690000, 690000), [np.int64])\n",
    "i = 0 # playlist iterator\n",
    "j = 0 # track iterator\n",
    "while j<23397:\n",
    "    if df[\"playlist\"][j]==i:\n",
    "        play.append(df[\"track_id\"][j])\n",
    "        j+=1\n",
    "    else:\n",
    "        #we make a sparse matrix out of the ith playlist\n",
    "        combinations = list(itertools.product(play,play)) #TODO: CONSIDER PAIRS ONLY ONCE!!!\n",
    "        row = np.array([m for (m,n) in combinations])\n",
    "        col = np.array([n for (m,n) in combinations])\n",
    "        n = (len(row))\n",
    "        listones = list(np.ones(len(row), dtype=np.int64))\n",
    "        mat = sp.csc_matrix((listones, (row, col)), shape=(690000,690000))\n",
    "        \n",
    "        #adds up the matrix to the final sparse matrix\n",
    "        matrix +=mat\n",
    "        \n",
    "        #cleans the list for the next playlist\n",
    "        play = []\n",
    "        i+=1"
   ]
  },
  {
   "cell_type": "code",
   "execution_count": 157,
   "metadata": {},
   "outputs": [
    {
     "name": "stdout",
     "output_type": "stream",
     "text": [
      "2.0\n",
      "1.0\n",
      "3.0\n",
      "2.0\n",
      "42.0\n"
     ]
    }
   ],
   "source": [
    "print(matrix[378843,172352])\n",
    "print(matrix[75800,65296])\n",
    "print(matrix[267752,43983])\n",
    "print(matrix[33101,33101])\n",
    "print(matrix.max())"
   ]
  },
  {
   "cell_type": "code",
   "execution_count": 154,
   "metadata": {
    "collapsed": true
   },
   "outputs": [],
   "source": [
    "sp.save_npz('sparse_matrix.npz', matrix)"
   ]
  },
  {
   "cell_type": "code",
   "execution_count": 156,
   "metadata": {
    "collapsed": true
   },
   "outputs": [],
   "source": [
    "#sparse_matrix = sp.load_npz('sparse_matrix.npz')"
   ]
  }
 ],
 "metadata": {
  "kernelspec": {
   "display_name": "Python 3",
   "language": "python",
   "name": "python3"
  },
  "language_info": {
   "codemirror_mode": {
    "name": "ipython",
    "version": 3
   },
   "file_extension": ".py",
   "mimetype": "text/x-python",
   "name": "python",
   "nbconvert_exporter": "python",
   "pygments_lexer": "ipython3",
   "version": "3.6.1"
  }
 },
 "nbformat": 4,
 "nbformat_minor": 2
}
