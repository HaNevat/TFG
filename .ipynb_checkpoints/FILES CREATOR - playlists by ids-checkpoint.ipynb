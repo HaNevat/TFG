{
 "cells": [
  {
   "cell_type": "code",
   "execution_count": null,
   "metadata": {
    "collapsed": true
   },
   "outputs": [],
   "source": [
    "\"\"\"\n",
    "this notebook aims to create a new set of data slices with less information than the original one\n",
    "specifically, for each slice, it will create a csv file containing its 1000 playlists  \n",
    "and its tracks IDs \n",
    "data format: playlist track_id\n",
    "usage: process_mpd(path)\n",
    "\"\"\"\n",
    "\n",
    "import pandas as pd\n",
    "import numpy as np\n",
    "import sys\n",
    "import json\n",
    "import re\n",
    "import collections\n",
    "import os\n",
    "import datetime\n",
    "import csv\n",
    "\n",
    "quick = False\n",
    "max_files_for_quick_processing = 2\n",
    "titles = pd.read_csv(\"id_trackuri.csv\")\n",
    "\n",
    "def process_mpd(path):\n",
    "    count = 0 # slices counter\n",
    "    i=0       # playlists counter   \n",
    "    filenames = os.listdir(path)\n",
    "    \n",
    "    #for each slice\n",
    "    for filename in sorted(filenames):\n",
    "        #read slice\n",
    "        if filename.startswith(\"mpd.slice.\") and filename.endswith(\".json\"):\n",
    "            fullpath = os.sep.join((path, filename))\n",
    "            f = open(fullpath)\n",
    "            js = f.read()\n",
    "            f.close()\n",
    "            mpd_slice = json.loads(js)\n",
    "\n",
    "            #process slice and write a csv\n",
    "            with open('playlists_tracks_id_'+str(count)+'.csv', 'w', newline='',encoding=\"utf-8\") as csvfile:\n",
    "                spamwriter = csv.writer(csvfile, delimiter=',', quoting=csv.QUOTE_MINIMAL)\n",
    "                spamwriter.writerow([\"playlist\",\"track_id\"])\n",
    "                for playlist in mpd_slice['playlists']:\n",
    "                    for track in mpd_slice[\"playlists\"][i][\"tracks\"]:\n",
    "                        spamwriter.writerow([i,titles.loc[titles['track_uri'] == track[\"track_uri\"][14:]][\"id\"].astype('category').values[0]])\n",
    "                    i+=1\n",
    "        count += 1\n",
    "\n",
    "        if quick and count > max_files_for_quick_processing:\n",
    "            break\n",
    "\n",
    "\n",
    "if __name__ == '__main__':\n",
    "    path = sys.argv[1]\n",
    "    if len(sys.argv) > 2 and sys.argv[2] == '--quick':\n",
    "        quick = False\n",
    "    #process_mpd(path)\n",
    "    process_mpd(os.getcwd()+\"\\MPD\")"
   ]
  },
  {
   "cell_type": "code",
   "execution_count": 6,
   "metadata": {},
   "outputs": [
    {
     "name": "stdout",
     "output_type": "stream",
     "text": [
      "279\n",
      "17860\n"
     ]
    },
    {
     "data": {
      "text/html": [
       "<div>\n",
       "<style>\n",
       "    .dataframe thead tr:only-child th {\n",
       "        text-align: right;\n",
       "    }\n",
       "\n",
       "    .dataframe thead th {\n",
       "        text-align: left;\n",
       "    }\n",
       "\n",
       "    .dataframe tbody tr th {\n",
       "        vertical-align: top;\n",
       "    }\n",
       "</style>\n",
       "<table border=\"1\" class=\"dataframe\">\n",
       "  <thead>\n",
       "    <tr style=\"text-align: right;\">\n",
       "      <th></th>\n",
       "      <th>playlist</th>\n",
       "      <th>track_id</th>\n",
       "    </tr>\n",
       "  </thead>\n",
       "  <tbody>\n",
       "    <tr>\n",
       "      <th>0</th>\n",
       "      <td>0</td>\n",
       "      <td>378843</td>\n",
       "    </tr>\n",
       "    <tr>\n",
       "      <th>1</th>\n",
       "      <td>0</td>\n",
       "      <td>31418</td>\n",
       "    </tr>\n",
       "    <tr>\n",
       "      <th>2</th>\n",
       "      <td>0</td>\n",
       "      <td>172352</td>\n",
       "    </tr>\n",
       "    <tr>\n",
       "      <th>3</th>\n",
       "      <td>0</td>\n",
       "      <td>477136</td>\n",
       "    </tr>\n",
       "    <tr>\n",
       "      <th>4</th>\n",
       "      <td>0</td>\n",
       "      <td>543117</td>\n",
       "    </tr>\n",
       "  </tbody>\n",
       "</table>\n",
       "</div>"
      ],
      "text/plain": [
       "   playlist  track_id\n",
       "0         0    378843\n",
       "1         0     31418\n",
       "2         0    172352\n",
       "3         0    477136\n",
       "4         0    543117"
      ]
     },
     "execution_count": 6,
     "metadata": {},
     "output_type": "execute_result"
    }
   ],
   "source": [
    "df = pd.read_csv(\"playlists_tracks_id_0.csv\")\n",
    "print df[\"playlist\"][len(df)-1] #don't know why it doesn't store the whole 1000 playlists. too much?\n",
    "print len(df)\n",
    "df.head()"
   ]
  },
  {
   "cell_type": "code",
   "execution_count": null,
   "metadata": {
    "collapsed": true
   },
   "outputs": [],
   "source": []
  }
 ],
 "metadata": {
  "kernelspec": {
   "display_name": "Python 3",
   "language": "python",
   "name": "python3"
  },
  "language_info": {
   "codemirror_mode": {
    "name": "ipython",
    "version": 3
   },
   "file_extension": ".py",
   "mimetype": "text/x-python",
   "name": "python",
   "nbconvert_exporter": "python",
   "pygments_lexer": "ipython3",
   "version": "3.6.1"
  }
 },
 "nbformat": 4,
 "nbformat_minor": 2
}
